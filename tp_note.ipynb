{
 "cells": [
  {
   "cell_type": "code",
   "execution_count": 10,
   "metadata": {},
   "outputs": [
    {
     "name": "stdout",
     "output_type": "stream",
     "text": [
      "File de priorité pour arabe: [1, 2, 3, 4, 5, 6, 7, 8]\n",
      "File de priorité pour hébreu: [0, 2, 3, 4, 5, 6, 7, 8]\n",
      "File de priorité pour sanskrit: [3, 4, 5, 6, 7, 0, 1, 8]\n",
      "File de priorité pour avestique: [2, 5, 4, 6, 7, 0, 1, 8]\n",
      "File de priorité pour grec classique: [5, 2, 7, 3, 6, 0, 1, 8]\n",
      "File de priorité pour latin: [4, 7, 2, 3, 6, 0, 1, 8]\n",
      "File de priorité pour gotique: [2, 3, 4, 5, 7, 0, 1, 8]\n",
      "File de priorité pour irlandais ancien: [5, 4, 2, 3, 6, 0, 1, 8]\n",
      "File de priorité pour turc: [0, 1, 2, 3, 4, 5, 6, 7]\n",
      "[True, False, True, True, True, True, True, True, True]\n",
      "fusion de arabe et hébreu\n",
      "[True, False, True, False, True, True, True, True, True]\n",
      "fusion de sanskrit et avestique\n",
      "[True, False, True, False, True, False, True, True, True]\n",
      "fusion de grec classique et latin\n",
      "[True, False, True, False, False, False, True, True, True]\n",
      "fusion de sanskrit et grec classique\n",
      "[True, False, True, False, False, False, True, True, True]\n",
      "fusion de sanskrit et latin\n",
      "[True, False, True, False, False, False, False, True, True]\n",
      "fusion de sanskrit et gotique\n",
      "[True, False, True, False, False, False, False, False, True]\n",
      "fusion de sanskrit et irlandais ancien\n",
      "[True, False, False, False, False, False, False, False, True]\n",
      "fusion de arabe et sanskrit\n"
     ]
    }
   ],
   "source": [
    "import numpy as np\n",
    "\n",
    "# matrice de similarité\n",
    "sim_mat = np.array([\n",
    "    [10, 6, 0, 0, 0, 0, 0, 0, 0] ,\n",
    "    [6, 10, 0, 0, 0, 0, 0, 0, 0] ,\n",
    "    [0, 0, 10, 5, 3, 3, 1, 1, 0] ,\n",
    "    [0, 0, 5, 10, 1, 2, 1, 1, 0] ,\n",
    "    [0, 0, 3, 1, 10, 4, 1, 2, 0] ,\n",
    "    [0, 0, 3, 2, 4, 10, 1, 4, 0] ,\n",
    "    [0, 0, 1, 1, 1, 1, 10, 1, 0] ,\n",
    "    [0, 0, 1, 1, 2, 4, 1, 10, 0] ,\n",
    "    [0, 0, 0, 0, 0, 0, 0, 0, 10]\n",
    "])\n",
    "\n",
    "labels = [\"arabe\", \"hébreu\", \"sanskrit\", \"avestique\", \"grec classique\", \"latin\", \"gotique\", \"irlandais ancien\", \"turc\"]\n",
    "I = [True] * len(labels)\n",
    "P = [[]] * len(labels)\n",
    "\n",
    "# Algo de clustering\n",
    "def init(sim_matrice, labels):\n",
    "    for i in range(len(labels)):\n",
    "        P[i] = sorted(range(len(sim_matrice[i])), key=lambda k: sim_matrice[i][k], reverse=True)[1:]\n",
    "        print(f\"File de priorité pour {labels[i]}: {P[i]}\")\n",
    "\n",
    "        \n",
    "init(sim_mat, labels)\n",
    "\n",
    "for k in range(len(labels)-1):\n",
    "    max_sim = -1\n",
    "    for i in range (len(labels)):\n",
    "        if I[i] == True:\n",
    "            for j in range (len(labels)):\n",
    "                if I[j] == True and sim_mat[i][j] > max_sim and j != i:\n",
    "                    max_sim = sim_mat[i][j]\n",
    "                    i1 = i      \n",
    "    i2 = P[i1][0]\n",
    "    I[i2] = False\n",
    "    P[i1].remove(i2)\n",
    "    print(f\"fusion de {labels[i1]} et {labels[i2]}\")\n",
    "\n"
   ]
  }
 ],
 "metadata": {
  "kernelspec": {
   "display_name": ".venv",
   "language": "python",
   "name": "python3"
  },
  "language_info": {
   "codemirror_mode": {
    "name": "ipython",
    "version": 3
   },
   "file_extension": ".py",
   "mimetype": "text/x-python",
   "name": "python",
   "nbconvert_exporter": "python",
   "pygments_lexer": "ipython3",
   "version": "3.12.3"
  }
 },
 "nbformat": 4,
 "nbformat_minor": 2
}
