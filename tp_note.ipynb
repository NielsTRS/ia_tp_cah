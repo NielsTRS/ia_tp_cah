{
 "cells": [
  {
   "cell_type": "code",
   "execution_count": null,
   "metadata": {},
   "outputs": [],
   "source": [
    "import numpy as np\n",
    "\n",
    "# matrice de similarité\n",
    "sim_mat = np.array([\n",
    "    [10, 6, 0, 0, 0, 0, 0, 0, 0] ,\n",
    "    [6, 10, 0, 0, 0, 0, 0, 0, 0] ,\n",
    "    [0, 0, 10, 5, 3, 3, 1, 1, 0] ,\n",
    "    [0, 0, 5, 10, 1, 2, 1, 1, 0] ,\n",
    "    [0, 0, 3, 1, 10, 4, 1, 2, 0] ,\n",
    "    [0, 0, 3, 2, 4, 10, 1, 4, 0] ,\n",
    "    [0, 0, 1, 1, 1, 1, 10, 1, 0] ,\n",
    "    [0, 0, 1, 1, 2, 4, 1, 10, 0] ,\n",
    "    [0, 0, 0, 0, 0, 0, 0, 0, 10]\n",
    "])\n",
    "\n",
    "labels = [\"arabe\", \"hébreu\", \"sanskrit\", \"avestique\", \"grec classique\", \"latin\", \"gotique\", \"irlandais ancien\", \"turc\"]\n",
    "I = [True] * len(labels)\n",
    "\n",
    "# Algo de clustering\n",
    "def CAH(sim_matrice, labels):\n",
    "    for i in range(len(labels)):\n",
    "        \n",
    "\n"
   ]
  }
 ],
 "metadata": {
  "kernelspec": {
   "display_name": ".venv",
   "language": "python",
   "name": "python3"
  },
  "language_info": {
   "name": "python",
   "version": "3.11.2"
  }
 },
 "nbformat": 4,
 "nbformat_minor": 2
}
