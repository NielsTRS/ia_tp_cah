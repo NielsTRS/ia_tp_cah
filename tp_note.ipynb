{
 "cells": [
  {
   "cell_type": "code",
   "execution_count": 2,
   "metadata": {},
   "outputs": [
    {
     "name": "stdout",
     "output_type": "stream",
     "text": [
      "File de priorité pour arabe: [1, 2, 3, 4, 5, 6, 7, 8]\n",
      "File de priorité pour hébreu: [0, 2, 3, 4, 5, 6, 7, 8]\n",
      "File de priorité pour sanskrit: [3, 4, 5, 6, 7, 0, 1, 8]\n",
      "File de priorité pour avestique: [2, 5, 4, 6, 7, 0, 1, 8]\n",
      "File de priorité pour grec classique: [5, 2, 7, 3, 6, 0, 1, 8]\n",
      "File de priorité pour latin: [4, 7, 2, 3, 6, 0, 1, 8]\n",
      "File de priorité pour gotique: [2, 3, 4, 5, 7, 0, 1, 8]\n",
      "File de priorité pour irlandais ancien: [5, 4, 2, 3, 6, 0, 1, 8]\n",
      "File de priorité pour turc: [0, 1, 2, 3, 4, 5, 6, 7]\n",
      "2\n",
      "[1, 2, 3, 4, 5, 7, 8]\n",
      "3\n",
      "[np.int64(0), 1, 3, 4, 5, 7, 8]\n",
      "4\n",
      "[np.int64(0), np.int64(0), 1, 4, 5, 7, 8]\n",
      "5\n",
      "[np.int64(0), np.int64(0), np.int64(0), 1, 5, 7, 8]\n",
      "6\n",
      "[np.int64(0), np.int64(0), np.int64(0), np.int64(0), 1, 7, 8]\n"
     ]
    },
    {
     "ename": "ValueError",
     "evalue": "list.remove(x): x not in list",
     "output_type": "error",
     "traceback": [
      "\u001b[0;31m---------------------------------------------------------------------------\u001b[0m",
      "\u001b[0;31mValueError\u001b[0m                                Traceback (most recent call last)",
      "Cell \u001b[0;32mIn[2], line 48\u001b[0m\n\u001b[1;32m     46\u001b[0m \u001b[38;5;28mprint\u001b[39m(P[i1])\n\u001b[1;32m     47\u001b[0m P[k2]\u001b[38;5;241m.\u001b[39mremove(i1)\n\u001b[0;32m---> 48\u001b[0m \u001b[43mP\u001b[49m\u001b[43m[\u001b[49m\u001b[43mi1\u001b[49m\u001b[43m]\u001b[49m\u001b[38;5;241;43m.\u001b[39;49m\u001b[43mremove\u001b[49m\u001b[43m(\u001b[49m\u001b[43mk2\u001b[49m\u001b[43m)\u001b[49m\n\u001b[1;32m     49\u001b[0m P[k2]\u001b[38;5;241m.\u001b[39mremove(i2)\n\u001b[1;32m     50\u001b[0m sim_mat[k2][i1] \u001b[38;5;241m=\u001b[39m \u001b[38;5;28mmax\u001b[39m(sim_mat[i][\u001b[38;5;241m1\u001b[39m],sim_mat[i][\u001b[38;5;241m2\u001b[39m])\n",
      "\u001b[0;31mValueError\u001b[0m: list.remove(x): x not in list"
     ]
    }
   ],
   "source": [
    "import numpy as np\n",
    "\n",
    "# matrice de similarité\n",
    "sim_mat = np.array([\n",
    "    [10, 6, 0, 0, 0, 0, 0, 0, 0] ,\n",
    "    [6, 10, 0, 0, 0, 0, 0, 0, 0] ,\n",
    "    [0, 0, 10, 5, 3, 3, 1, 1, 0] ,\n",
    "    [0, 0, 5, 10, 1, 2, 1, 1, 0] ,\n",
    "    [0, 0, 3, 1, 10, 4, 1, 2, 0] ,\n",
    "    [0, 0, 3, 2, 4, 10, 1, 4, 0] ,\n",
    "    [0, 0, 1, 1, 1, 1, 10, 1, 0] ,\n",
    "    [0, 0, 1, 1, 2, 4, 1, 10, 0] ,\n",
    "    [0, 0, 0, 0, 0, 0, 0, 0, 10]\n",
    "])\n",
    "\n",
    "labels = [\"arabe\", \"hébreu\", \"sanskrit\", \"avestique\", \"grec classique\", \"latin\", \"gotique\", \"irlandais ancien\", \"turc\"]\n",
    "I = [True] * len(labels)\n",
    "P = [[]] * len(labels)\n",
    "L = []\n",
    "\n",
    "# Algo de clustering\n",
    "def init(sim_matrice, labels):\n",
    "    for i in range(len(labels)):\n",
    "        P[i] = sorted(range(len(sim_matrice[i])), key=lambda k: sim_matrice[i][k], reverse=True)[1:]\n",
    "        print(f\"File de priorité pour {labels[i]}: {P[i]}\")\n",
    "\n",
    "        \n",
    "init(sim_mat, labels)\n",
    "\n",
    "for k in range(len(labels)-1):\n",
    "    max_sim = -1\n",
    "    for i in range (len(labels)):\n",
    "        if I[i]:\n",
    "            for j in range (len(labels)):\n",
    "                if I[j] and sim_mat[i][j] > max_sim and j != i:\n",
    "                    max_sim = sim_mat[i][j]\n",
    "                    i1 = i      \n",
    "    i2 = P[i1][0]\n",
    "    I[i2] = False\n",
    "    L.append([i1,i2])\n",
    "    P[i1].remove(sim_mat[i1][i2])\n",
    "\n",
    "    for k2 in range(len(labels)):\n",
    "        if I[k2] and k2 != i1:\n",
    "            print(k2)\n",
    "            print(P[i1])\n",
    "            P[k2].remove(i1)\n",
    "            P[i1].remove(k2)\n",
    "            P[k2].remove(i2)\n",
    "            sim_mat[k2][i1] = max(sim_mat[i][1],sim_mat[i][2])\n",
    "            sim_mat[i1][k2] = max(sim_mat[i][i1],sim_mat[i][i2])\n",
    "            P[k2].append(sim_mat[i][i1])\n",
    "            P[i1].append(sim_mat[i1][i])\n",
    "            P[k2].sort()\n",
    "            P[i1].sort()\n",
    "\n",
    "    print(f\"fusion de {labels[i1]} et {labels[i2]}\")\n",
    "\n"
   ]
  }
 ],
 "metadata": {
  "kernelspec": {
   "display_name": ".venv",
   "language": "python",
   "name": "python3"
  },
  "language_info": {
   "codemirror_mode": {
    "name": "ipython",
    "version": 3
   },
   "file_extension": ".py",
   "mimetype": "text/x-python",
   "name": "python",
   "nbconvert_exporter": "python",
   "pygments_lexer": "ipython3",
   "version": "3.12.3"
  }
 },
 "nbformat": 4,
 "nbformat_minor": 2
}
