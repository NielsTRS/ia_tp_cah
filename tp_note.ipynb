{
 "cells": [
  {
   "cell_type": "code",
   "execution_count": 1,
   "metadata": {},
   "outputs": [],
   "source": [
    "import matplotlib.pyplot as plt\n",
    "from scipy.cluster.hierarchy import dendrogram\n",
    "import numpy as np"
   ]
  },
  {
   "cell_type": "code",
   "execution_count": 2,
   "metadata": {},
   "outputs": [
    {
     "name": "stdout",
     "output_type": "stream",
     "text": [
      "File de priorité pour arabe: [1, 2, 3, 4, 5, 6, 7, 8]\n",
      "File de priorité pour hébreu: [0, 2, 3, 4, 5, 6, 7, 8]\n",
      "File de priorité pour sanskrit: [3, 4, 5, 6, 7, 0, 1, 8]\n",
      "File de priorité pour avestique: [2, 5, 4, 6, 7, 0, 1, 8]\n",
      "File de priorité pour grec classique: [5, 2, 7, 3, 6, 0, 1, 8]\n",
      "File de priorité pour latin: [4, 7, 2, 3, 6, 0, 1, 8]\n",
      "File de priorité pour gotique: [2, 3, 4, 5, 7, 0, 1, 8]\n",
      "File de priorité pour irlandais ancien: [5, 4, 2, 3, 6, 0, 1, 8]\n",
      "File de priorité pour turc: [0, 1, 2, 3, 4, 5, 6, 7]\n",
      "Fusion de arabe et hébreu\n",
      "Fusion de sanskrit et avestique\n",
      "Fusion de grec classique et latin\n",
      "Fusion de grec classique et irlandais ancien\n",
      "Fusion de sanskrit et grec classique\n",
      "Fusion de sanskrit et gotique\n",
      "Fusion de arabe et sanskrit\n",
      "Fusion de arabe et turc\n",
      "Liste des fusions effectuées: [[0, 1], [2, 3], [4, 5], [4, 7], [2, 4], [2, 6], [0, 2], [0, 8]]\n"
     ]
    }
   ],
   "source": [
    "\n",
    "# matrice de similarité\n",
    "sim_mat = np.array([\n",
    "    [10, 6, 0, 0, 0, 0, 0, 0, 0],\n",
    "    [6, 10, 0, 0, 0, 0, 0, 0, 0],\n",
    "    [0, 0, 10, 5, 3, 3, 1, 1, 0],\n",
    "    [0, 0, 5, 10, 1, 2, 1, 1, 0],\n",
    "    [0, 0, 3, 1, 10, 4, 1, 2, 0],\n",
    "    [0, 0, 3, 2, 4, 10, 1, 4, 0],\n",
    "    [0, 0, 1, 1, 1, 1, 10, 1, 0],\n",
    "    [0, 0, 1, 1, 2, 4, 1, 10, 0],\n",
    "    [0, 0, 0, 0, 0, 0, 0, 0, 10]\n",
    "])\n",
    "\n",
    "labels = [\"arabe\", \"hébreu\", \"sanskrit\", \"avestique\", \"grec classique\", \"latin\", \"gotique\", \"irlandais ancien\", \"turc\"]\n",
    "I = [True] * len(labels)  # Indicator for active clusters\n",
    "P = [[] for _ in range(len(labels))]  # Priority queues for each cluster\n",
    "L = []  # List to store the fusion steps\n",
    "\n",
    "# Initialize priority queues\n",
    "def init(sim_matrice, labels):\n",
    "    for i in range(len(labels)):\n",
    "        P[i] = sorted(range(len(sim_matrice[i])), key=lambda k: sim_matrice[i][k], reverse=True)[1:]\n",
    "        print(f\"File de priorité pour {labels[i]}: {P[i]}\")\n",
    "\n",
    "init(sim_mat, labels)\n",
    "\n",
    "for k in range(len(labels)-1):\n",
    "    max_sim = -1\n",
    "    i1, i2 = -1, -1\n",
    "    for i in range(len(labels)):\n",
    "        if I[i]:\n",
    "            for j in range(len(labels)):\n",
    "                if I[j] and sim_mat[i][j] > max_sim and j != i:\n",
    "                    max_sim = sim_mat[i][j]\n",
    "                    i1, i2 = i, j\n",
    "\n",
    "    # Merge clusters i1 and i2\n",
    "    I[i2] = False\n",
    "    L.append([i1, i2])\n",
    "    \n",
    "    print(f\"Fusion de {labels[i1]} et {labels[i2]}\")\n",
    "    \n",
    "    # Update the sim matrix\n",
    "    for i in range(len(labels)):\n",
    "        if I[i] and i != i1:\n",
    "            sim_mat[i][i1] = sim_mat[i1][i] = max(sim_mat[i][i1], sim_mat[i][i2])  # Single-linkage: max(sim(di, d1), sim(di, d2))\n",
    "\n",
    "    # Remove i2\n",
    "    for i in range(len(labels)):\n",
    "        if I[i] and i != i1:\n",
    "            if i2 in P[i]:\n",
    "                P[i].remove(i2)\n",
    "            if i1 in P[i]:\n",
    "                P[i].remove(i1)\n",
    "    \n",
    "    # Update i1\n",
    "    P[i1] = sorted([i for i in range(len(labels)) if I[i] and i != i1], key=lambda x: sim_mat[i1][x], reverse=True)\n",
    "\n",
    "print(\"Liste des fusions effectuées:\", L)\n"
   ]
  },
  {
   "cell_type": "code",
   "execution_count": 3,
   "metadata": {},
   "outputs": [
    {
     "name": "stdout",
     "output_type": "stream",
     "text": [
      "Document le plus proche de arabe est hébreu avec une similarité de 6\n",
      "Document le plus proche de hébreu est arabe avec une similarité de 6\n",
      "Document le plus proche de sanskrit est avestique avec une similarité de 5\n",
      "Document le plus proche de avestique est sanskrit avec une similarité de 5\n",
      "Document le plus proche de grec classique est latin avec une similarité de 4\n",
      "Document le plus proche de latin est grec classique avec une similarité de 4\n",
      "Document le plus proche de gotique est sanskrit avec une similarité de 1\n",
      "Document le plus proche de irlandais ancien est latin avec une similarité de 4\n",
      "Document le plus proche de turc est turc avec une similarité de 0\n",
      "Fusion de arabe et hébreu\n",
      "Fusion de sanskrit et avestique\n",
      "Fusion de grec classique et latin\n",
      "Fusion de grec classique et irlandais ancien\n",
      "Fusion de sanskrit et grec classique\n",
      "Fusion de sanskrit et gotique\n",
      "Fusion de arabe et turc\n",
      "Fusion de arabe et arabe\n",
      "Liste des fusions effectuées: [[0, 1], [2, 3], [4, 5], [4, 7], [2, 4], [2, 6], [0, 8], [0, 0]]\n"
     ]
    }
   ],
   "source": [
    "import numpy as np\n",
    "\n",
    "# Initial similarity matrix\n",
    "sim_mat = np.array([\n",
    "    [10, 6, 0, 0, 0, 0, 0, 0, 0],\n",
    "    [6, 10, 0, 0, 0, 0, 0, 0, 0],\n",
    "    [0, 0, 10, 5, 3, 3, 1, 1, 0],\n",
    "    [0, 0, 5, 10, 1, 2, 1, 1, 0],\n",
    "    [0, 0, 3, 1, 10, 4, 1, 2, 0],\n",
    "    [0, 0, 3, 2, 4, 10, 1, 4, 0],\n",
    "    [0, 0, 1, 1, 1, 1, 10, 1, 0],\n",
    "    [0, 0, 1, 1, 2, 4, 1, 10, 0],\n",
    "    [0, 0, 0, 0, 0, 0, 0, 0, 10]\n",
    "])\n",
    "\n",
    "labels = [\"arabe\", \"hébreu\", \"sanskrit\", \"avestique\", \"grec classique\", \"latin\", \"gotique\", \"irlandais ancien\", \"turc\"]\n",
    "\n",
    "# Priority queues and active cluster indices\n",
    "I = list(range(len(labels)))  # Initially, each document is its own cluster\n",
    "P = [(0, -1) for _ in range(len(labels))]  # (similarity, index of the most similar cluster)\n",
    "L = []  # List of fusions\n",
    "\n",
    "# Initialize the closest document for each document\n",
    "def init(sim_matrice, labels):\n",
    "    for i in range(len(labels)):\n",
    "        for j in range(len(labels)):\n",
    "            if i != j and sim_matrice[i][j] > P[i][0]:\n",
    "                P[i] = (sim_matrice[i][j], j)\n",
    "        print(f\"Document le plus proche de {labels[i]} est {labels[P[i][1]]} avec une similarité de {P[i][0]}\")\n",
    "\n",
    "# Perform initialization\n",
    "init(sim_mat, labels)\n",
    "\n",
    "# Iterative merging process\n",
    "for k in range(len(labels) - 1):\n",
    "    # Find the pair of clusters with the highest similarity\n",
    "    i1 = max([i for i in range(len(labels)) if I[i] == i], key=lambda x: P[x][0])\n",
    "    i2 = I[P[i1][1]]\n",
    "    \n",
    "    # Merge clusters i1 and i2\n",
    "    L.append([i1, i2])\n",
    "    print(f\"Fusion de {labels[i1]} et {labels[i2]}\")\n",
    "    \n",
    "    # Update similarity matrix for the new merged cluster i1\n",
    "    for i in range(len(labels)):\n",
    "        if I[i] == i and i != i1 and i != i2:\n",
    "            sim_mat[i][i1] = sim_mat[i1][i] = max(sim_mat[i][i1], sim_mat[i][i2])  # Single-linkage update\n",
    "    \n",
    "    # Deactivate cluster i2 by updating I\n",
    "    for i in range(len(labels)):\n",
    "        if I[i] == i2:\n",
    "            I[i] = i1\n",
    "    \n",
    "    # Update priority queue for i1\n",
    "    P[i1] = (0, -1)  # Reset\n",
    "    for i in range(len(labels)):\n",
    "        if I[i] == i and i != i1 and sim_mat[i1][i] > P[i1][0]:\n",
    "            P[i1] = (sim_mat[i1][i], i)\n",
    "\n",
    "print(\"Liste des fusions effectuées:\", L)\n"
   ]
  },
  {
   "cell_type": "code",
   "execution_count": 4,
   "metadata": {},
   "outputs": [],
   "source": [
    "def create_linkage_matrix(L, n):\n",
    "    Z = np.zeros((n - 1, 4)) #initalize empty linkage matrix\n",
    "    current_cluster = np.arange(n)\n",
    "    cluster_sizes = np.ones(n)\n",
    "    next_cluster_index = n\n",
    "\n",
    "    #linkage matrix construction\n",
    "    for k, (i1, i2) in enumerate(L):\n",
    "        ci1, ci2 = current_cluster[i1], current_cluster[i2] #get the current active cluster of a language \n",
    "        Z[k] = [ci1, ci2, k + 1, cluster_sizes[ci1] + cluster_sizes[ci2]] # [idx1, idx2, distance, n_elements]\n",
    "        current_cluster[i1] = current_cluster[i2] = next_cluster_index #update active clusters\n",
    "        cluster_sizes = np.append(cluster_sizes, Z[k, 3]) #update the cluster size after merge\n",
    "        next_cluster_index += 1\n",
    "\n",
    "    return Z"
   ]
  },
  {
   "cell_type": "markdown",
   "metadata": {},
   "source": [
    "Affichage du dendogramme en utilisant scipy"
   ]
  },
  {
   "cell_type": "code",
   "execution_count": 5,
   "metadata": {},
   "outputs": [
    {
     "ename": "ValueError",
     "evalue": "Linkage 'Z' uses the same cluster more than once.",
     "output_type": "error",
     "traceback": [
      "\u001b[0;31m---------------------------------------------------------------------------\u001b[0m",
      "\u001b[0;31mValueError\u001b[0m                                Traceback (most recent call last)",
      "Cell \u001b[0;32mIn[5], line 4\u001b[0m\n\u001b[1;32m      2\u001b[0m \u001b[38;5;66;03m# Plot the dendrogram\u001b[39;00m\n\u001b[1;32m      3\u001b[0m plt\u001b[38;5;241m.\u001b[39mfigure(figsize\u001b[38;5;241m=\u001b[39m(\u001b[38;5;241m10\u001b[39m, \u001b[38;5;241m5\u001b[39m))\n\u001b[0;32m----> 4\u001b[0m \u001b[43mdendrogram\u001b[49m\u001b[43m(\u001b[49m\u001b[43mZ\u001b[49m\u001b[43m,\u001b[49m\u001b[43m \u001b[49m\u001b[43mlabels\u001b[49m\u001b[38;5;241;43m=\u001b[39;49m\u001b[43mlabels\u001b[49m\u001b[43m)\u001b[49m\n\u001b[1;32m      5\u001b[0m plt\u001b[38;5;241m.\u001b[39mtitle(\u001b[38;5;124m'\u001b[39m\u001b[38;5;124mDendrogram of Language Clustering\u001b[39m\u001b[38;5;124m'\u001b[39m)\n\u001b[1;32m      6\u001b[0m plt\u001b[38;5;241m.\u001b[39mxlabel(\u001b[38;5;124m'\u001b[39m\u001b[38;5;124mLanguages\u001b[39m\u001b[38;5;124m'\u001b[39m)\n",
      "File \u001b[0;32m~/Documents/Cours/M1/IA/IA_tp/.venv/lib/python3.12/site-packages/scipy/cluster/hierarchy.py:3286\u001b[0m, in \u001b[0;36mdendrogram\u001b[0;34m(Z, p, truncate_mode, color_threshold, get_leaves, orientation, labels, count_sort, distance_sort, show_leaf_counts, no_plot, no_labels, leaf_font_size, leaf_rotation, leaf_label_func, show_contracted, link_color_func, ax, above_threshold_color)\u001b[0m\n\u001b[1;32m   3283\u001b[0m     \u001b[38;5;28;01mif\u001b[39;00m Z\u001b[38;5;241m.\u001b[39mshape[\u001b[38;5;241m0\u001b[39m] \u001b[38;5;241m+\u001b[39m \u001b[38;5;241m1\u001b[39m \u001b[38;5;241m!=\u001b[39m len_labels:\n\u001b[1;32m   3284\u001b[0m         \u001b[38;5;28;01mraise\u001b[39;00m \u001b[38;5;167;01mValueError\u001b[39;00m(\u001b[38;5;124m\"\u001b[39m\u001b[38;5;124mDimensions of Z and labels must be consistent.\u001b[39m\u001b[38;5;124m\"\u001b[39m)\n\u001b[0;32m-> 3286\u001b[0m \u001b[43mis_valid_linkage\u001b[49m\u001b[43m(\u001b[49m\u001b[43mZ\u001b[49m\u001b[43m,\u001b[49m\u001b[43m \u001b[49m\u001b[43mthrow\u001b[49m\u001b[38;5;241;43m=\u001b[39;49m\u001b[38;5;28;43;01mTrue\u001b[39;49;00m\u001b[43m,\u001b[49m\u001b[43m \u001b[49m\u001b[43mname\u001b[49m\u001b[38;5;241;43m=\u001b[39;49m\u001b[38;5;124;43m'\u001b[39;49m\u001b[38;5;124;43mZ\u001b[39;49m\u001b[38;5;124;43m'\u001b[39;49m\u001b[43m)\u001b[49m\n\u001b[1;32m   3287\u001b[0m Zs \u001b[38;5;241m=\u001b[39m Z\u001b[38;5;241m.\u001b[39mshape\n\u001b[1;32m   3288\u001b[0m n \u001b[38;5;241m=\u001b[39m Zs[\u001b[38;5;241m0\u001b[39m] \u001b[38;5;241m+\u001b[39m \u001b[38;5;241m1\u001b[39m\n",
      "File \u001b[0;32m~/Documents/Cours/M1/IA/IA_tp/.venv/lib/python3.12/site-packages/scipy/cluster/hierarchy.py:2254\u001b[0m, in \u001b[0;36mis_valid_linkage\u001b[0;34m(Z, warning, throw, name)\u001b[0m\n\u001b[1;32m   2251\u001b[0m         \u001b[38;5;28;01mraise\u001b[39;00m \u001b[38;5;167;01mValueError\u001b[39;00m(\u001b[38;5;124m'\u001b[39m\u001b[38;5;124mLinkage \u001b[39m\u001b[38;5;132;01m%s\u001b[39;00m\u001b[38;5;124muses non-singleton cluster before \u001b[39m\u001b[38;5;124m'\u001b[39m\n\u001b[1;32m   2252\u001b[0m                          \u001b[38;5;124m'\u001b[39m\u001b[38;5;124mit is formed.\u001b[39m\u001b[38;5;124m'\u001b[39m \u001b[38;5;241m%\u001b[39m name_str)\n\u001b[1;32m   2253\u001b[0m     \u001b[38;5;28;01mif\u001b[39;00m _check_hierarchy_uses_cluster_more_than_once(Z):\n\u001b[0;32m-> 2254\u001b[0m         \u001b[38;5;28;01mraise\u001b[39;00m \u001b[38;5;167;01mValueError\u001b[39;00m(\u001b[38;5;124m'\u001b[39m\u001b[38;5;124mLinkage \u001b[39m\u001b[38;5;132;01m%s\u001b[39;00m\u001b[38;5;124muses the same cluster more than once.\u001b[39m\u001b[38;5;124m'\u001b[39m\n\u001b[1;32m   2255\u001b[0m                          \u001b[38;5;241m%\u001b[39m name_str)\n\u001b[1;32m   2256\u001b[0m \u001b[38;5;28;01mexcept\u001b[39;00m \u001b[38;5;167;01mException\u001b[39;00m \u001b[38;5;28;01mas\u001b[39;00m e:\n\u001b[1;32m   2257\u001b[0m     \u001b[38;5;28;01mif\u001b[39;00m throw:\n",
      "\u001b[0;31mValueError\u001b[0m: Linkage 'Z' uses the same cluster more than once."
     ]
    },
    {
     "data": {
      "text/plain": [
       "<Figure size 1000x500 with 0 Axes>"
      ]
     },
     "metadata": {},
     "output_type": "display_data"
    }
   ],
   "source": [
    "\n",
    "Z = create_linkage_matrix(L, len(labels))\n",
    "# Plot the dendrogram\n",
    "plt.figure(figsize=(10, 5))\n",
    "dendrogram(Z, labels=labels)\n",
    "plt.title('Dendrogram of Language Clustering')\n",
    "plt.xlabel('Languages')\n",
    "plt.ylabel('Distance')\n",
    "plt.show()"
   ]
  },
  {
   "cell_type": "markdown",
   "metadata": {},
   "source": [
    "Affichage du dendogramme en utilisant numpy"
   ]
  },
  {
   "cell_type": "code",
   "execution_count": 5,
   "metadata": {},
   "outputs": [
    {
     "data": {
      "image/png": "[encoded data removed]",
      "text/plain": [
       "<Figure size 1000x500 with 1 Axes>"
      ]
     },
     "metadata": {},
     "output_type": "display_data"
    }
   ],
   "source": [
    "\n",
    "def plot_dendrogram(Z, labels):\n",
    "    fig, ax = plt.subplots(figsize=(10, 5))\n",
    "    n = len(labels)\n",
    "    x_coords = {i: i for i in range(n)}\n",
    "    y_coords = {i: 0 for i in range(n)}\n",
    "\n",
    "    for i, (ci1, ci2, dist, size) in enumerate(Z):\n",
    "        x1, x2 = x_coords[ci1], x_coords[ci2]\n",
    "        y1, y2 = y_coords[ci1], y_coords[ci2]\n",
    "        x_new = (x1 + x2) / 2\n",
    "        y_new = dist\n",
    "\n",
    "        ax.plot([x1, x1, x2, x2], [y1, y_new, y_new, y2], c='b')\n",
    "        ax.plot([x1, x2], [y_new, y_new], c='b')\n",
    "\n",
    "        x_coords[n + i] = x_new\n",
    "        y_coords[n + i] = y_new\n",
    "\n",
    "    ax.set_xticks(range(n))\n",
    "    ax.set_xticklabels(labels)\n",
    "    ax.set_xlabel('Languages')\n",
    "    ax.set_ylabel('Distance')\n",
    "    ax.set_title('Dendrogram of Language Clustering')\n",
    "    plt.show()\n",
    "\n",
    "Z = create_linkage_matrix(L, len(labels))\n",
    "# Plot the dendrogram\n",
    "plot_dendrogram(Z, labels)"
   ]
  }
 ],
 "metadata": {
  "kernelspec": {
   "display_name": ".venv",
   "language": "python",
   "name": "python3"
  },
  "language_info": {
   "codemirror_mode": {
    "name": "ipython",
    "version": 3
   },
   "file_extension": ".py",
   "mimetype": "text/x-python",
   "name": "python",
   "nbconvert_exporter": "python",
   "pygments_lexer": "ipython3",
   "version": "3.12.3"
  }
 },
 "nbformat": 4,
 "nbformat_minor": 2
}
