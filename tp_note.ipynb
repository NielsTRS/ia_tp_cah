{
 "cells": [
  {
   "cell_type": "code",
   "execution_count": 3,
   "metadata": {},
   "outputs": [
    {
     "name": "stdout",
     "output_type": "stream",
     "text": [
      "File de priorité pour arabe: [1, 2, 3, 4, 5, 6, 7, 8]\n",
      "File de priorité pour hébreu: [0, 2, 3, 4, 5, 6, 7, 8]\n",
      "File de priorité pour sanskrit: [3, 4, 5, 6, 7, 0, 1, 8]\n",
      "File de priorité pour avestique: [2, 5, 4, 6, 7, 0, 1, 8]\n",
      "File de priorité pour grec classique: [5, 2, 7, 3, 6, 0, 1, 8]\n",
      "File de priorité pour latin: [4, 7, 2, 3, 6, 0, 1, 8]\n",
      "File de priorité pour gotique: [2, 3, 4, 5, 7, 0, 1, 8]\n",
      "File de priorité pour irlandais ancien: [5, 4, 2, 3, 6, 0, 1, 8]\n",
      "File de priorité pour turc: [0, 1, 2, 3, 4, 5, 6, 7]\n",
      "Fusion de arabe et hébreu\n",
      "Fusion de sanskrit et avestique\n",
      "Fusion de grec classique et latin\n",
      "Fusion de grec classique et irlandais ancien\n",
      "Fusion de sanskrit et grec classique\n",
      "Fusion de sanskrit et gotique\n",
      "Fusion de arabe et sanskrit\n",
      "Fusion de arabe et turc\n",
      "Liste des fusions effectuées: [[0, 1], [2, 3], [4, 5], [4, 7], [2, 4], [2, 6], [0, 2], [0, 8]]\n"
     ]
    }
   ],
   "source": [
    "import numpy as np\n",
    "\n",
    "# matrice de similarité\n",
    "sim_mat = np.array([\n",
    "    [10, 6, 0, 0, 0, 0, 0, 0, 0],\n",
    "    [6, 10, 0, 0, 0, 0, 0, 0, 0],\n",
    "    [0, 0, 10, 5, 3, 3, 1, 1, 0],\n",
    "    [0, 0, 5, 10, 1, 2, 1, 1, 0],\n",
    "    [0, 0, 3, 1, 10, 4, 1, 2, 0],\n",
    "    [0, 0, 3, 2, 4, 10, 1, 4, 0],\n",
    "    [0, 0, 1, 1, 1, 1, 10, 1, 0],\n",
    "    [0, 0, 1, 1, 2, 4, 1, 10, 0],\n",
    "    [0, 0, 0, 0, 0, 0, 0, 0, 10]\n",
    "])\n",
    "\n",
    "labels = [\"arabe\", \"hébreu\", \"sanskrit\", \"avestique\", \"grec classique\", \"latin\", \"gotique\", \"irlandais ancien\", \"turc\"]\n",
    "I = [True] * len(labels)  # Indicator for active clusters\n",
    "P = [[] for _ in range(len(labels))]  # Priority queues for each cluster\n",
    "L = []  # List to store the fusion steps\n",
    "\n",
    "# Initialize priority queues\n",
    "def init(sim_matrice, labels):\n",
    "    for i in range(len(labels)):\n",
    "        P[i] = sorted(range(len(sim_matrice[i])), key=lambda k: sim_matrice[i][k], reverse=True)[1:]\n",
    "        print(f\"File de priorité pour {labels[i]}: {P[i]}\")\n",
    "\n",
    "init(sim_mat, labels)\n",
    "\n",
    "for k in range(len(labels)-1):\n",
    "    max_sim = -1\n",
    "    i1, i2 = -1, -1\n",
    "    for i in range(len(labels)):\n",
    "        if I[i]:\n",
    "            for j in range(len(labels)):\n",
    "                if I[j] and sim_mat[i][j] > max_sim and j != i:\n",
    "                    max_sim = sim_mat[i][j]\n",
    "                    i1, i2 = i, j\n",
    "\n",
    "    # Merge clusters i1 and i2\n",
    "    I[i2] = False\n",
    "    L.append([i1, i2])\n",
    "    \n",
    "    print(f\"Fusion de {labels[i1]} et {labels[i2]}\")\n",
    "    \n",
    "    # Update the sim matrix\n",
    "    for i in range(len(labels)):\n",
    "        if I[i] and i != i1:\n",
    "            sim_mat[i][i1] = sim_mat[i1][i] = max(sim_mat[i][i1], sim_mat[i][i2])  # Single-linkage: max(sim(di, d1), sim(di, d2))\n",
    "\n",
    "    # Remove i2\n",
    "    for i in range(len(labels)):\n",
    "        if I[i] and i != i1:\n",
    "            if i2 in P[i]:\n",
    "                P[i].remove(i2)\n",
    "            if i1 in P[i]:\n",
    "                P[i].remove(i1)\n",
    "    \n",
    "    # Update i1\n",
    "    P[i1] = sorted([i for i in range(len(labels)) if I[i] and i != i1], key=lambda x: sim_mat[i1][x], reverse=True)\n",
    "\n",
    "print(\"Liste des fusions effectuées:\", L)\n"
   ]
  }
 ],
 "metadata": {
  "kernelspec": {
   "display_name": ".venv",
   "language": "python",
   "name": "python3"
  },
  "language_info": {
   "codemirror_mode": {
    "name": "ipython",
    "version": 3
   },
   "file_extension": ".py",
   "mimetype": "text/x-python",
   "name": "python",
   "nbconvert_exporter": "python",
   "pygments_lexer": "ipython3",
   "version": "3.12.3"
  }
 },
 "nbformat": 4,
 "nbformat_minor": 2
}
