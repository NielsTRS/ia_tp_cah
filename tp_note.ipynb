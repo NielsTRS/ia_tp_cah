{
 "cells": [
  {
   "cell_type": "code",
   "execution_count": 11,
   "metadata": {},
   "outputs": [
    {
     "name": "stdout",
     "output_type": "stream",
     "text": [
      "File de priorité pour arabe: [1, 2, 3, 4, 5, 6, 7, 8]\n",
      "File de priorité pour hébreu: [0, 2, 3, 4, 5, 6, 7, 8]\n",
      "File de priorité pour sanskrit: [3, 4, 5, 6, 7, 0, 1, 8]\n",
      "File de priorité pour avestique: [2, 5, 4, 6, 7, 0, 1, 8]\n",
      "File de priorité pour grec classique: [5, 2, 7, 3, 6, 0, 1, 8]\n",
      "File de priorité pour latin: [4, 7, 2, 3, 6, 0, 1, 8]\n",
      "File de priorité pour gotique: [2, 3, 4, 5, 7, 0, 1, 8]\n",
      "File de priorité pour irlandais ancien: [5, 4, 2, 3, 6, 0, 1, 8]\n",
      "File de priorité pour turc: [0, 1, 2, 3, 4, 5, 6, 7]\n"
     ]
    }
   ],
   "source": [
    "import numpy as np\n",
    "\n",
    "# matrice de similarité\n",
    "sim_mat = np.array([\n",
    "    [10, 6, 0, 0, 0, 0, 0, 0, 0] ,\n",
    "    [6, 10, 0, 0, 0, 0, 0, 0, 0] ,\n",
    "    [0, 0, 10, 5, 3, 3, 1, 1, 0] ,\n",
    "    [0, 0, 5, 10, 1, 2, 1, 1, 0] ,\n",
    "    [0, 0, 3, 1, 10, 4, 1, 2, 0] ,\n",
    "    [0, 0, 3, 2, 4, 10, 1, 4, 0] ,\n",
    "    [0, 0, 1, 1, 1, 1, 10, 1, 0] ,\n",
    "    [0, 0, 1, 1, 2, 4, 1, 10, 0] ,\n",
    "    [0, 0, 0, 0, 0, 0, 0, 0, 10]\n",
    "])\n",
    "\n",
    "labels = [\"arabe\", \"hébreu\", \"sanskrit\", \"avestique\", \"grec classique\", \"latin\", \"gotique\", \"irlandais ancien\", \"turc\"]\n",
    "I = [True] * len(labels)\n",
    "P = [[]] * len(labels)\n",
    "\n",
    "# Algo de clustering\n",
    "def init(sim_matrice, labels):\n",
    "    for i in range(len(labels)):\n",
    "        P[i] = sorted(range(len(sim_matrice[i])), key=lambda k: sim_matrice[i][k], reverse=True)[1:]\n",
    "        print(f\"File de priorité pour {labels[i]}: {P[i]}\")\n",
    "\n",
    "        \n",
    "init(sim_mat, labels)\n",
    "\n"
   ]
  }
 ],
 "metadata": {
  "kernelspec": {
   "display_name": ".venv",
   "language": "python",
   "name": "python3"
  },
  "language_info": {
   "codemirror_mode": {
    "name": "ipython",
    "version": 3
   },
   "file_extension": ".py",
   "mimetype": "text/x-python",
   "name": "python",
   "nbconvert_exporter": "python",
   "pygments_lexer": "ipython3",
   "version": "3.11.2"
  }
 },
 "nbformat": 4,
 "nbformat_minor": 2
}
